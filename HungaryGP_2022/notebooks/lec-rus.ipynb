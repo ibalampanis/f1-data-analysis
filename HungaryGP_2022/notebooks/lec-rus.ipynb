{
 "cells": [
  {
   "cell_type": "code",
   "execution_count": null,
   "metadata": {},
   "outputs": [],
   "source": [
    "import fastf1 as ff1\n",
    "from fastf1 import plotting\n",
    "from matplotlib import pyplot as plt\n",
    "from matplotlib.pyplot import figure\n",
    "import numpy as np\n",
    "import pandas as pd\n"
   ]
  },
  {
   "cell_type": "code",
   "execution_count": null,
   "metadata": {},
   "outputs": [],
   "source": [
    "img_dir = '../img/'\n",
    "\n",
    "# Setup plotting\n",
    "plotting.setup_mpl()\n",
    "\n",
    "# Enable the cache\n",
    "ff1.Cache.enable_cache('../../cache')\n",
    "\n",
    "# Get rid of some pandas warnings that are not relevant for us at the moment\n",
    "pd.options.mode.chained_assignment = None\n"
   ]
  },
  {
   "cell_type": "code",
   "execution_count": null,
   "metadata": {},
   "outputs": [],
   "source": [
    "# Load the session data\n",
    "race = ff1.get_session(2022, 'Hungary', 'R')\n",
    "\n",
    "# Get the laps\n",
    "laps = race.load_laps(with_telemetry=True)\n"
   ]
  },
  {
   "cell_type": "code",
   "execution_count": null,
   "metadata": {},
   "outputs": [],
   "source": [
    "# Get laps of the drivers (LEC and RUS)\n",
    "laps_driver1 = laps.pick_driver('LEC')\n",
    "laps_driver2 = laps.pick_driver('RUS')\n",
    "\n",
    "laps_driver1['RaceLapNumber'] = laps_driver1['LapNumber'] - 1\n",
    "laps_driver2['RaceLapNumber'] = laps_driver2['LapNumber'] - 1\n"
   ]
  },
  {
   "cell_type": "code",
   "execution_count": null,
   "metadata": {},
   "outputs": [],
   "source": [
    "plt.rcParams['figure.figsize'] = [15, 15]\n",
    "\n",
    "plt.plot(laps_driver1['RaceLapNumber'],\n",
    "         laps_driver1['LapTime'], label='LEC', color='red')\n",
    "plt.plot(laps_driver2['RaceLapNumber'],\n",
    "         laps_driver2['LapTime'], label='RUS', color='grey')\n",
    "# plt.set(ylabel='Laptime', xlabel='Lap')\n",
    "plt.legend(loc=\"upper center\")\n",
    "plt.savefig(img_dir + 'race_pace_lec_rus_hungaryGP2022.png', dpi=300)\n",
    "plt.show()\n"
   ]
  },
  {
   "cell_type": "code",
   "execution_count": null,
   "metadata": {},
   "outputs": [],
   "source": [
    "# Lap 31 Telemetry\n",
    "# Get lap data\n",
    "lap_telemetry_driver1 = laps_driver1.loc[laps_driver1['RaceLapNumber'] == 31] \\\n",
    "                                    .get_car_data().add_distance()\n",
    "lap_telemetry_driver2 = laps_driver2.loc[laps_driver2['RaceLapNumber'] == 31] \\\n",
    "                                    .get_car_data().add_distance()\n",
    "\n",
    "lap_telemetry_driver1['Distance'].loc[(lap_telemetry_driver1['Distance'] >= 450) & (\n",
    "    lap_telemetry_driver1['Distance'] <= 600)]\n"
   ]
  },
  {
   "cell_type": "code",
   "execution_count": null,
   "metadata": {},
   "outputs": [],
   "source": [
    "# Make plot a bit bigger\n",
    "plt.rcParams['figure.figsize'] = [20, 20]\n",
    "\n",
    "fig, ax = plt.subplots(3)\n",
    "# fig.suptitle(\"Lap 31 Telemetry Comparison\")\n",
    "\n",
    "ax[0].title.set_text(\"Lap 31 Telemetry Comparison\")\n",
    "ax[0].plot(lap_telemetry_driver1['Distance'],\n",
    "           lap_telemetry_driver1['Speed'], label='LEC', color='red')\n",
    "ax[0].plot(lap_telemetry_driver2['Distance'],\n",
    "           lap_telemetry_driver2['Speed'], label='RUS', color='grey')\n",
    "ax[0].set(ylabel='Speed')\n",
    "ax[0].set(xlabel='Distance')\n",
    "ax[0].legend(loc=\"lower right\")\n",
    "\n",
    "ax[1].plot(lap_telemetry_driver1['Distance'],\n",
    "           lap_telemetry_driver1['Throttle'], label='LEC', color='red')\n",
    "ax[1].plot(lap_telemetry_driver2['Distance'],\n",
    "           lap_telemetry_driver2['Throttle'], label='RUS', color='grey')\n",
    "ax[1].set(ylabel='Throttle')\n",
    "ax[1].set(xlabel='Distance')\n",
    "ax[1].legend(loc=\"lower right\")\n",
    "\n",
    "ax[2].plot(lap_telemetry_driver1['Distance'],\n",
    "           lap_telemetry_driver1['Brake'], label='LEC', color='red')\n",
    "ax[2].plot(lap_telemetry_driver2['Distance'],\n",
    "           lap_telemetry_driver2['Brake'], label='RUS', color='grey')\n",
    "ax[2].set(ylabel='Brakes')\n",
    "ax[2].set(xlabel='Distance')\n",
    "ax[2].legend(loc=\"lower right\")\n",
    "\n",
    "# # Hide x labels and tick labels for top plots and y ticks for right plots.\n",
    "# for a in ax.flat:\n",
    "#     a.label_outer()\n",
    "\n",
    "plt.savefig(img_dir + 'lap_31_lec_rus_hungaryGP2022.png', dpi=300)\n",
    "plt.show()\n"
   ]
  },
  {
   "cell_type": "code",
   "execution_count": null,
   "metadata": {},
   "outputs": [],
   "source": [
    "# Make plot a bit bigger\n",
    "plt.rcParams['figure.figsize'] = [20, 20]\n",
    "\n",
    "fig, ax = plt.subplots(3)\n",
    "# fig.suptitle(\"Lap 31 Telemetry Comparison\")\n",
    "\n",
    "ax[0].title.set_text(\"Lap 31 Telemetry Comparison (Turn 1)\")\n",
    "ax[0].plot(lap_telemetry_driver1['Distance'].loc[(lap_telemetry_driver1['Distance']\n",
    "                                                  >= 450) & (lap_telemetry_driver1['Distance'] <= 600)],\n",
    "           lap_telemetry_driver1['Speed'].loc[(lap_telemetry_driver1['Distance']\n",
    "                                               >= 450) & (lap_telemetry_driver1['Distance'] <= 600)], label='LEC', color='red')\n",
    "ax[0].plot(lap_telemetry_driver2['Distance'].loc[(lap_telemetry_driver2['Distance']\n",
    "                                                  >= 450) & (lap_telemetry_driver2['Distance'] <= 600)],\n",
    "           lap_telemetry_driver2['Speed'].loc[(lap_telemetry_driver2['Distance']\n",
    "                                               >= 450) & (lap_telemetry_driver2['Distance'] <= 600)], label='RUS', color='grey')\n",
    "ax[0].set(ylabel='Speed')\n",
    "ax[0].set(xlabel='Distance')\n",
    "ax[0].legend(loc=\"lower right\")\n",
    "\n",
    "ax[1].plot(lap_telemetry_driver1['Distance'].loc[(lap_telemetry_driver1['Distance']\n",
    "                                                  >= 450) & (lap_telemetry_driver1['Distance'] <= 600)],\n",
    "           lap_telemetry_driver1['Throttle'].loc[(lap_telemetry_driver1['Distance']\n",
    "                                                  >= 450) & (lap_telemetry_driver1['Distance'] <= 600)], label='LEC', color='red')\n",
    "ax[1].plot(lap_telemetry_driver2['Distance'].loc[(lap_telemetry_driver2['Distance']\n",
    "                                                  >= 450) & (lap_telemetry_driver2['Distance'] <= 600)],\n",
    "           lap_telemetry_driver2['Throttle'].loc[(lap_telemetry_driver2['Distance']\n",
    "                                                  >= 450) & (lap_telemetry_driver2['Distance'] <= 600)], label='RUS', color='grey')\n",
    "ax[1].set(ylabel='Throttle')\n",
    "ax[1].set(xlabel='Distance')\n",
    "ax[1].legend(loc=\"lower right\")\n",
    "\n",
    "ax[2].plot(lap_telemetry_driver1['Distance'].loc[(lap_telemetry_driver1['Distance']\n",
    "                                                  >= 450) & (lap_telemetry_driver1['Distance'] <= 600)],\n",
    "           lap_telemetry_driver1['Brake'].loc[(lap_telemetry_driver1['Distance']\n",
    "                                               >= 450) & (lap_telemetry_driver1['Distance'] <= 600)], label='LEC', color='red')\n",
    "ax[2].plot(lap_telemetry_driver2['Distance'].loc[(lap_telemetry_driver2['Distance']\n",
    "                                                  >= 450) & (lap_telemetry_driver2['Distance'] <= 600)],\n",
    "           lap_telemetry_driver2['Brake'].loc[(lap_telemetry_driver2['Distance']\n",
    "                                               >= 450) & (lap_telemetry_driver2['Distance'] <= 600)], label='RUS', color='grey')\n",
    "ax[2].set(ylabel='Brakes')\n",
    "ax[2].set(xlabel='Distance')\n",
    "ax[2].legend(loc=\"lower right\")\n",
    "\n",
    "# # Hide x labels and tick labels for top plots and y ticks for right plots.\n",
    "# for a in ax.flat:\n",
    "#     a.label_outer()\n",
    "\n",
    "plt.savefig(img_dir + 'lap_31_lec_rus_overtake_hungaryGP2022.png', dpi=300)\n",
    "plt.show()\n"
   ]
  }
 ],
 "metadata": {
  "kernelspec": {
   "display_name": "Python 3.9.7 ('base')",
   "language": "python",
   "name": "python3"
  },
  "language_info": {
   "name": "python",
   "version": "3.9.7"
  },
  "orig_nbformat": 4,
  "vscode": {
   "interpreter": {
    "hash": "e500c697183d21a1d9f24ab83e27b396cf25291b0376dc184a04ecf1411f2877"
   }
  }
 },
 "nbformat": 4,
 "nbformat_minor": 2
}
