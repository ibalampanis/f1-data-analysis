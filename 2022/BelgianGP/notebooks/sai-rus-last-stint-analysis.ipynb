{
 "cells": [
  {
   "cell_type": "code",
   "execution_count": 1,
   "metadata": {},
   "outputs": [],
   "source": [
    "import pandas as pd\n",
    "import numpy as np\n",
    "from matplotlib.pyplot import figure\n",
    "from matplotlib import pyplot as plt\n",
    "from fastf1 import plotting\n",
    "import fastf1 as ff1\n"
   ]
  },
  {
   "cell_type": "code",
   "execution_count": 4,
   "metadata": {},
   "outputs": [],
   "source": [
    "img_dir = '../img/'\n",
    "\n",
    "# Setup plotting\n",
    "plotting.setup_mpl()\n",
    "\n",
    "# Enable the cache\n",
    "ff1.Cache.enable_cache('../../../cache')\n",
    "\n",
    "# Get rid of some pandas warnings that are not relevant for us at the moment\n",
    "pd.options.mode.chained_assignment = None\n",
    "\n",
    "compound_colors = {\n",
    "    'SOFT': '#FF3333',\n",
    "    'MEDIUM': '#FFF200',\n",
    "    'HARD': '#EBEBEB',\n",
    "    'INTERMEDIATE': '#39B54A',\n",
    "    'WET': '#00AEEF',\n",
    "}\n"
   ]
  },
  {
   "cell_type": "code",
   "execution_count": 5,
   "metadata": {},
   "outputs": [
    {
     "name": "stderr",
     "output_type": "stream",
     "text": [
      "/home/ilias/anaconda3/lib/python3.9/site-packages/fastf1/core.py:1220: FutureWarning: `Session.load_laps` is deprecated and will beremoved in a future version.\n",
      "Use `Session.load` instead.\n",
      "  warnings.warn(\"`Session.load_laps` is deprecated and will be\"\n",
      "core           INFO \tLoading data for Belgian Grand Prix - Race [v2.3.0]\n",
      "api            INFO \tUsing cached data for driver_info\n",
      "api            INFO \tUsing cached data for timing_data\n",
      "api            INFO \tUsing cached data for timing_app_data\n",
      "core           INFO \tProcessing timing data...\n",
      "api            INFO \tUsing cached data for session_status_data\n",
      "api            INFO \tUsing cached data for track_status_data\n",
      "api            INFO \tUsing cached data for car_data\n",
      "api            INFO \tUsing cached data for position_data\n",
      "api            INFO \tUsing cached data for weather_data\n",
      "api            INFO \tUsing cached data for race_control_messages\n",
      "core           INFO \tFinished loading data for 20 drivers: ['1', '11', '55', '63', '14', '16', '31', '5', '10', '23', '18', '4', '22', '24', '3', '20', '47', '6', '77', '44']\n"
     ]
    }
   ],
   "source": [
    "# Load the session data\n",
    "race = ff1.get_session(2022, 'Belgium', 'R')\n",
    "\n",
    "# Get the laps\n",
    "laps = race.load_laps(with_telemetry=True)\n",
    "\n",
    "# laps = pd.DataFrame(laps)\n",
    "# laps.to_csv('../data/laps_BelgianGP2022.csv', index=False)\n"
   ]
  },
  {
   "cell_type": "code",
   "execution_count": null,
   "metadata": {},
   "outputs": [],
   "source": [
    "driver_stints = laps[['Driver', 'Stint', 'Compound', 'LapNumber']].groupby(\n",
    "    ['Driver', 'Stint', 'Compound']).count().reset_index()\n",
    "\n",
    "driver_stints = driver_stints.rename(columns={'LapNumber': 'StintLength'})\n",
    "driver_stints = driver_stints.sort_values(by=['Stint'])\n"
   ]
  },
  {
   "cell_type": "code",
   "execution_count": null,
   "metadata": {},
   "outputs": [],
   "source": [
    "plt.rcParams[\"figure.figsize\"] = [10, 2]\n",
    "plt.rcParams[\"figure.autolayout\"] = True\n",
    "\n",
    "fig, ax = plt.subplots()\n",
    "\n",
    "# drivers = race.results['Abbreviation'].head(6)\n",
    "drivers = ['SAI', 'RUS']\n",
    "\n",
    "ticks_x = []\n",
    "for driver in drivers:\n",
    "    stints = driver_stints.loc[driver_stints['Driver'] == driver]\n",
    "\n",
    "    previous_stint_end = 0\n",
    "    for _, stint in stints.iterrows():\n",
    "        plt.barh(\n",
    "            [driver],\n",
    "            stint['StintLength'],\n",
    "            left=previous_stint_end,\n",
    "            color=compound_colors[stint['Compound']],\n",
    "            edgecolor=\"black\"\n",
    "        )\n",
    "        previous_stint_end = previous_stint_end + stint['StintLength']\n",
    "\n",
    "\n",
    "plt.title(f'Belgian GP 2022 - SAI & RUS Race Strategy')\n",
    "plt.xlabel('Laps')\n",
    "plt.gca().invert_yaxis()\n",
    "ax.spines['top'].set_visible(False)\n",
    "ax.spines['right'].set_visible(False)\n",
    "ax.spines['left'].set_visible(False)\n",
    "plt.savefig(img_dir + 'strategy_sai_rus_belgianGP2022.png', dpi=300)\n",
    "plt.show()\n"
   ]
  },
  {
   "cell_type": "code",
   "execution_count": null,
   "metadata": {},
   "outputs": [],
   "source": [
    "# laps_driver1 = laps.pick_driver('VER')\n",
    "laps_driver3 = laps.pick_driver('RUS')\n",
    "laps_driver4 = laps.pick_driver('SAI')\n",
    "\n",
    "# laps_driver1['RaceLapNumber'] = laps_driver1['LapNumber'] - 1\n",
    "laps_driver3['RaceLapNumber'] = laps_driver3['LapNumber'] - 1\n",
    "laps_driver4['RaceLapNumber'] = laps_driver4['LapNumber'] - 1\n",
    "\n",
    "\n",
    "plt.rcParams['figure.figsize'] = [12, 7]\n",
    "\n",
    "# plt.plot(laps_driver1['RaceLapNumber'],\n",
    "#          laps_driver1['LapTime'], label='VER', color='blue')\n",
    "plt.plot(laps_driver4['RaceLapNumber'],\n",
    "         laps_driver4['LapTime'], label='SAI', color='red')\n",
    "plt.plot(laps_driver3['RaceLapNumber'],\n",
    "         laps_driver3['LapTime'], label='RUS', color='grey')\n",
    "\n",
    "\n",
    "# plt.set(ylabel='Laptime', xlabel='Lap')\n",
    "plt.title(f'Hungary GP 2022 - Race Pace (SAI vs RUS)')\n",
    "plt.legend(loc=\"upper center\", ncol=3)\n",
    "plt.gca().yaxis.grid(True)\n",
    "plt.savefig(img_dir + 'race_pace_sai_rus_belgianGP2022.png', dpi=300)\n",
    "plt.show()\n"
   ]
  },
  {
   "cell_type": "code",
   "execution_count": null,
   "metadata": {},
   "outputs": [],
   "source": [
    "laps_driver3 = laps_driver3[laps_driver3['RaceLapNumber'] >= 31]\n",
    "laps_driver4 = laps_driver4[laps_driver4['RaceLapNumber'] >= 31]\n",
    "# laps_driver3 = laps_driver3[laps_driver3['Stint'] == 3]\n",
    "# laps_driver4 = laps_driver4[laps_driver4['Stint'] == 3]\n",
    "\n",
    "plt.rcParams['figure.figsize'] = [12, 7]\n",
    "\n",
    "plt.plot(laps_driver4['LapNumber'],\n",
    "         laps_driver4['LapTime'], label='SAI', color='red', marker='.')\n",
    "plt.plot(laps_driver3['LapNumber'],\n",
    "         laps_driver3['LapTime'], label='RUS', color='grey', marker='.')\n",
    "\n",
    "# plt.set(ylabel='Laptime', xlabel='Lap')\n",
    "plt.title(f'Belgian GP 2022 - Last Stint Race Pace (SAI vs RUS)')\n",
    "plt.xticks(laps_driver4['LapNumber'].values.tolist())\n",
    "plt.legend(loc=\"upper right\", ncol=3)\n",
    "plt.gca().xaxis.grid(True)\n",
    "# plt.grid()\n",
    "\n",
    "i = 0\n",
    "for _ in laps_driver4['LapNumber']:\n",
    "    \n",
    "    diff = laps_driver3['LapTime'].values[i] - laps_driver4['LapTime'].values[i]\n",
    "    diff = pd.Timedelta(diff)\n",
    "\n",
    "    # if diff < 0:\n",
    "    if diff.days == -1:\n",
    "        neg = True\n",
    "        diff = abs(laps_driver3['LapTime'].values[i] - laps_driver4['LapTime'].values[i])\n",
    "        diff = pd.Timedelta(diff)\n",
    "\n",
    "    s = diff.seconds\n",
    "    ms = int(diff.microseconds / 1000)\n",
    "    \n",
    "    if diff > pd.Timedelta(seconds=0.2):\n",
    "        if neg:\n",
    "            diff_format = '(-{:01}.{:03}s)'.format(s % 60, ms)\n",
    "        else:\n",
    "            diff_format = '(+{:01}.{:03}s)'.format(s % 60, ms)\n",
    "        plt.annotate(diff_format,\n",
    "                xy=(laps_driver3['LapNumber'].values[i], laps_driver3['LapTime'].values[i]),\n",
    "                xycoords='data',\n",
    "                xytext=(20, 10),\n",
    "                textcoords='offset points',\n",
    "            arrowprops=dict(arrowstyle='simple'))\n",
    "    neg = False\n",
    "    i+=1\n",
    "\n",
    "\n",
    "plt.savefig(img_dir + 'race_pace_sai_rus_last_stint_belgianGP2022.png', dpi=300)\n",
    "plt.show()\n"
   ]
  }
 ],
 "metadata": {
  "kernelspec": {
   "display_name": "Python 3.9.7 ('base')",
   "language": "python",
   "name": "python3"
  },
  "language_info": {
   "codemirror_mode": {
    "name": "ipython",
    "version": 3
   },
   "file_extension": ".py",
   "mimetype": "text/x-python",
   "name": "python",
   "nbconvert_exporter": "python",
   "pygments_lexer": "ipython3",
   "version": "3.9.7"
  },
  "vscode": {
   "interpreter": {
    "hash": "e500c697183d21a1d9f24ab83e27b396cf25291b0376dc184a04ecf1411f2877"
   }
  }
 },
 "nbformat": 4,
 "nbformat_minor": 2
}
